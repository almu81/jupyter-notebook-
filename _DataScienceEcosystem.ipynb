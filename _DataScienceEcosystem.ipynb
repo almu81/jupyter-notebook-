{
 "cells": [
  {
   "cell_type": "markdown",
   "id": "91194e29-50bc-44e6-b7d0-dde5c1c0ff8c",
   "metadata": {
    "tags": []
   },
   "source": [
    "# Data Science Tools and Ecosystem"
   ]
  },
  {
   "cell_type": "markdown",
   "id": "cdd423fb-1e98-49f3-adf5-8da2a69ca13f",
   "metadata": {
    "tags": []
   },
   "source": [
    "In this notebook, Data Science Tools and Ecosystem are summarized."
   ]
  },
  {
   "cell_type": "markdown",
   "id": "d57dfba3-5e91-4087-9876-3e573db86cd2",
   "metadata": {},
   "source": [
    "***OBJETIVES:***\n",
    "- List popular languages for Data Science\n",
    "- Some of the commonly used libraries used by Data Scientists\n",
    "- Data Science Tools\n"
   ]
  },
  {
   "cell_type": "code",
   "execution_count": null,
   "id": "b2c4b9db-c8c6-40a5-85fc-ffc80f6f283f",
   "metadata": {},
   "outputs": [],
   "source": []
  },
  {
   "cell_type": "markdown",
   "id": "c0014cc8-6ce6-4186-ac83-fd07595edfd2",
   "metadata": {},
   "source": [
    "Some of the popular languages that Data Scientists use are:\n",
    "1. SQL\n",
    "2. PYTHON\n",
    "3. JULIA\n",
    "4. JAVA\n",
    "5. R"
   ]
  },
  {
   "cell_type": "markdown",
   "id": "71c3b033-3e6b-45c2-abf3-0c865f1d50f0",
   "metadata": {},
   "source": [
    "Some of the commonly used libraries used by Data Scientists include:\n",
    "1. Numpy\n",
    "2. Pandas\n",
    "3. Matplotlib\n",
    "4. Tensorflow"
   ]
  },
  {
   "cell_type": "markdown",
   "id": "83b92d7a-91af-46fd-a3a6-4e43233fa7df",
   "metadata": {},
   "source": [
    "|Data Science tools|\n",
    "|------------------|\n",
    "|Jupyter Notebook  |\n",
    "|RStudio           |\n",
    "|Apache Spark      |"
   ]
  },
  {
   "cell_type": "markdown",
   "id": "ed6add56-3a52-4576-9840-1f05cad7de61",
   "metadata": {},
   "source": [
    "*** Below are a few examples of evaluating arithmetic expressions in Python\n",
    "1. **Suma**\n",
    " $$ a + b = c $$\n",
    "2. **Resta**\n",
    "$$ a - b = c $$"
   ]
  },
  {
   "cell_type": "markdown",
   "id": "75b2616c-2846-42ff-b276-2ed1f230c991",
   "metadata": {},
   "source": [
    " This a simple arithmetic expression to mutiply then add integers\n",
    " (3*4)+5"
   ]
  },
  {
   "cell_type": "code",
   "execution_count": 1,
   "id": "02e9f837-a8b9-4e82-97a9-2e84370d9490",
   "metadata": {
    "tags": []
   },
   "outputs": [
    {
     "data": {
      "text/plain": [
       "17"
      ]
     },
     "execution_count": 1,
     "metadata": {},
     "output_type": "execute_result"
    }
   ],
   "source": [
    "(3*4)+5"
   ]
  },
  {
   "cell_type": "markdown",
   "id": "8dc3f851-4b21-4a43-812a-9468472a09de",
   "metadata": {},
   "source": [
    "This will convert 200 minutes to hours by diving by 60"
   ]
  },
  {
   "cell_type": "markdown",
   "id": "2dac5eaa-be10-435e-8356-63383935fda6",
   "metadata": {
    "tags": []
   },
   "source": [
    "```python\n",
    "# Convertir 200 minutos a horas\n",
    "minutos = 200\n",
    "horas = minutos / 60\n",
    "print(f\"{minutos} minutos son {horas} horas\")"
   ]
  },
  {
   "cell_type": "markdown",
   "id": "de779fd5-80d1-4a89-8acb-7b883c910dca",
   "metadata": {},
   "source": [
    "Author \n",
    "## Almudena Lorca "
   ]
  }
 ],
 "metadata": {
  "kernelspec": {
   "display_name": "Python",
   "language": "python",
   "name": "conda-env-python-py"
  },
  "language_info": {
   "codemirror_mode": {
    "name": "ipython",
    "version": 3
   },
   "file_extension": ".py",
   "mimetype": "text/x-python",
   "name": "python",
   "nbconvert_exporter": "python",
   "pygments_lexer": "ipython3",
   "version": "3.7.12"
  },
  "toc-autonumbering": false,
  "toc-showcode": true,
  "toc-showmarkdowntxt": true,
  "toc-showtags": true
 },
 "nbformat": 4,
 "nbformat_minor": 5
}
